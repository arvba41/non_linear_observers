{
 "cells": [
  {
   "cell_type": "code",
   "execution_count": null,
   "metadata": {},
   "outputs": [],
   "source": [
    "import numpy as np\n",
    "import matplotlib.pyplot as plt\n",
    "import seaborn as sns\n",
    "from seaborn import despine\n",
    "import pandas as pd\n",
    "\n",
    "sns.set(style='white', rc={'lines.linewidth': 0.75})"
   ]
  },
  {
   "cell_type": "markdown",
   "metadata": {},
   "source": [
    "In case you want your plots in external windows"
   ]
  },
  {
   "cell_type": "code",
   "execution_count": null,
   "metadata": {},
   "outputs": [],
   "source": [
    "# %matplotlib"
   ]
  },
  {
   "cell_type": "markdown",
   "metadata": {},
   "source": [
    "# Simulate robot movement"
   ]
  },
  {
   "cell_type": "markdown",
   "metadata": {},
   "source": [
    "Define discrete-time model"
   ]
  },
  {
   "cell_type": "code",
   "execution_count": null,
   "metadata": {},
   "outputs": [],
   "source": [
    "Tfinal = 20\n",
    "Ts = 0.1\n",
    "V = 3\n",
    "x0 = [10, 10, 0]  # Initial state\n",
    "model = {}\n",
    "model['f'] = lambda x, u, w: [x[0] + Ts * V * np.cos(x[2]), x[1] + Ts * V * np.sin(x[2]), x[2] + Ts*u[0]]\n",
    "model['h'] = lambda x, u: np.array([np.sqrt(x[0]**2 + x[1]**2), np.arctan2(x[1], x[0])])"
   ]
  },
  {
   "cell_type": "markdown",
   "metadata": {},
   "source": [
    "Simulate robot movement and store results in a dictionary"
   ]
  },
  {
   "cell_type": "code",
   "execution_count": null,
   "metadata": {},
   "outputs": [],
   "source": [
    "t = np.arange(0, Tfinal, Ts)\n",
    "N = len(t)\n",
    "x = np.zeros((3, N))\n",
    "x[:, 0] = x0\n",
    "\n",
    "u = np.zeros((1, N))\n",
    "u[0][(t >= 5) &  (t < 10)] = -1\n",
    "u[0][(t >= 10) & (t < 12)] = 0\n",
    "u[0][(t >= 12) & (t < 15)] = 1\n",
    "u[0][(t >= 15) & (t < 17)] = -1\n",
    "\n",
    "for ti in np.arange(0, N-1):\n",
    "    x[:, ti + 1] = model['f'](x[:, ti], u[:, ti], 0)\n",
    "y0 = model['h'](x, u)\n",
    "y = y0 + (np.diag([0.6, 0.03]) @ np.random.normal(0, 1, size=(2, N)))\n",
    "data = {'t': t, 'x': x, 'u': u, 'y0': y0, 'y': y}"
   ]
  },
  {
   "cell_type": "markdown",
   "metadata": {},
   "source": [
    "Plot nominal path"
   ]
  },
  {
   "cell_type": "code",
   "execution_count": null,
   "metadata": {},
   "outputs": [],
   "source": [
    "_, ax = plt.subplots(num=10, clear=True)\n",
    "ax.plot(data['x'][0, :], data['x'][1, :])\n",
    "ax.plot(data['x'][0, 0], data['x'][1, 0], 'bo')\n",
    "ax.plot(data['x'][0, -1], data['x'][1, -1], 'rx')\n",
    "ax.axis('square')\n",
    "ax.set_xlabel('x')\n",
    "ax.set_ylabel('y')\n",
    "despine(ax=ax)"
   ]
  },
  {
   "cell_type": "markdown",
   "metadata": {},
   "source": [
    "Plot measurements"
   ]
  },
  {
   "cell_type": "code",
   "execution_count": null,
   "metadata": {},
   "outputs": [],
   "source": [
    "_, ax = plt.subplots(2, 1, num=20, clear=True, layout=\"tight\")\n",
    "ax[0].plot(data['t'], data['y0'][0], 'b', lw=2)\n",
    "ax[0].plot(data['t'], data['y'][0], 'r')\n",
    "ax[0].set_xlabel('t [s]')\n",
    "ax[0].set_ylabel('[m]')\n",
    "ax[0].set_title('Range measurement')\n",
    "despine(ax=ax[0])\n",
    "\n",
    "ax[1].plot(data['t'], data['y0'][1]*180/np.pi, 'b', lw=2)\n",
    "ax[1].plot(data['t'], data['y'][1]*180/np.pi, 'r')\n",
    "ax[1].set_xlabel('t [s]')\n",
    "ax[1].set_ylabel('[deg]')\n",
    "ax[1].set_title('Angle measurement')\n",
    "despine(ax=ax[1])"
   ]
  },
  {
   "cell_type": "markdown",
   "metadata": {},
   "source": [
    "# Plot path computed from direct measurement"
   ]
  },
  {
   "cell_type": "markdown",
   "metadata": {},
   "source": [
    "Compute position estimate by inverting the measurement equation"
   ]
  },
  {
   "cell_type": "code",
   "execution_count": null,
   "metadata": {},
   "outputs": [],
   "source": [
    "dist = data['y'][0]\n",
    "ang = data['y'][1]\n",
    "pos_hat_0 = np.row_stack((dist*np.cos(ang), dist*np.sin(ang)))"
   ]
  },
  {
   "cell_type": "markdown",
   "metadata": {},
   "source": [
    "Plot the estimated path"
   ]
  },
  {
   "cell_type": "code",
   "execution_count": null,
   "metadata": {},
   "outputs": [],
   "source": [
    "_, ax = plt.subplots(num=30, clear=True)\n",
    "ax.plot(data['x'][0], data['x'][1])\n",
    "ax.plot(data['x'][0, 0], data['x'][1, 0], 'bo')\n",
    "ax.plot(data['x'][0, -1], data['x'][1, -1], 'rx')\n",
    "ax.plot(pos_hat_0[0], pos_hat_0[1], 'k')\n",
    "ax.axis('square')\n",
    "ax.set_xlabel('x')\n",
    "ax.set_ylabel('y')\n",
    "ax.set_title('Direct computation from measurements')\n",
    "despine(ax=ax)"
   ]
  },
  {
   "cell_type": "markdown",
   "metadata": {},
   "source": [
    "Plot position errors"
   ]
  },
  {
   "cell_type": "code",
   "execution_count": null,
   "metadata": {},
   "outputs": [],
   "source": [
    "_, ax = plt.subplots(2, 1, num=31, clear=True, layout=\"tight\")\n",
    "ax[0].plot(data['t'], data['x'][0] - pos_hat_0[0])\n",
    "ax[0].set_xlabel('t [s]');\n",
    "ax[0].set_ylabel('[m]')\n",
    "ax[0].set_title('x position error in direct computation');\n",
    "despine(ax=ax[0])\n",
    "\n",
    "ax[1].plot(data['t'], data['x'][1] - pos_hat_0[1])\n",
    "ax[1].set_xlabel('t [s]');\n",
    "ax[1].set_ylabel('[m]')\n",
    "ax[1].set_title('y position error in direct computation')\n",
    "despine(ax=ax[1])"
   ]
  },
  {
   "cell_type": "markdown",
   "metadata": {},
   "source": [
    "# Extended Kalman Filter"
   ]
  },
  {
   "cell_type": "markdown",
   "metadata": {},
   "source": [
    "Implement your Extended Kalman Filter below"
   ]
  },
  {
   "cell_type": "code",
   "execution_count": null,
   "metadata": {},
   "outputs": [],
   "source": [
    "def EKF(model, init, data):\n",
    "    \"\"\"Extended Kalman Filter\n",
    "    \n",
    "    Input:\n",
    "      model - Dictionary with keys n, f, h, fx, hx, Q, R\n",
    "      init - Dictionary with x0, P0\n",
    "    \"\"\"\n",
    "    M = data['y'].shape[1]  # Number of data points\n",
    "    P = init['P0']  # Initial covariance P_0|-1\n",
    "    n = model['n']  # Number of states\n",
    "\n",
    "    xhat = np.zeros((n, M))  # Prepare output array\n",
    "    xhat[:, 0] = init['x0']  # Initialize xhat\n",
    "\n",
    "    for l in range(0, M - 1):\n",
    "        pass\n",
    "        # Measurement update\n",
    "        # FILL IN YOUR CODE HERE\n",
    "        \n",
    "        # Time update\n",
    "        # FILL IN YOUR CODE HERE\n",
    "        \n",
    "    return xhat"
   ]
  },
  {
   "cell_type": "markdown",
   "metadata": {},
   "source": [
    "Define model dictionary"
   ]
  },
  {
   "cell_type": "code",
   "execution_count": null,
   "metadata": {},
   "outputs": [],
   "source": [
    "modelEKF = {}\n",
    "Q = None  # YOUR CODE HERE: 3x3 numpy array matrix, Process noise covariance \n",
    "R = None # YOUR CODE HERE: 2x2 numpy array matrix, Measurement noise covariance\n",
    "\n",
    "modelEKF['n'] = 3\n",
    "modelEKF['m'] = 2\n",
    "modelEKF['Q'] = lambda x: Q\n",
    "modelEKF['R'] = lambda x: R\n",
    "modelEKF['f'] = lambda x, u: model['f'](x, u, 0)\n",
    "modelEKF['h'] = lambda x, u: model['h'](x,u)\n",
    "modelEKF['fx'] = lambda x, u: None  # YOUR CODE HERE: return df/dx(x, u)\n",
    "modelEKF['hx'] = lambda x, u: None  # YOUR CODE HERE: return dh/dx(x, u)"
   ]
  },
  {
   "cell_type": "markdown",
   "metadata": {},
   "source": [
    "Define inital conditions and run filter"
   ]
  },
  {
   "cell_type": "code",
   "execution_count": null,
   "metadata": {},
   "outputs": [],
   "source": [
    "init = {}\n",
    "P0 = None  # YOUR CODE HERE: 2x2 numpy array matrix, Initial estimate covariance\n",
    "x0 = None  # YOUR CODE HERE: numpy array with initial state (x0, y0, theta0)\n",
    "\n",
    "init['x0'] = x0\n",
    "init['P0'] = P0\n",
    "\n",
    "xhatEKF = EKF(modelEKF, init, data)"
   ]
  },
  {
   "cell_type": "markdown",
   "metadata": {},
   "source": [
    "Explore, investigate, and plot interesting results."
   ]
  },
  {
   "cell_type": "code",
   "execution_count": null,
   "metadata": {},
   "outputs": [],
   "source": []
  }
 ],
 "metadata": {
  "kernelspec": {
   "display_name": "Python 3",
   "language": "python",
   "name": "python3"
  },
  "language_info": {
   "codemirror_mode": {
    "name": "ipython",
    "version": 3
   },
   "file_extension": ".py",
   "mimetype": "text/x-python",
   "name": "python",
   "nbconvert_exporter": "python",
   "pygments_lexer": "ipython3",
   "version": "3.11.0"
  }
 },
 "nbformat": 4,
 "nbformat_minor": 4
}
